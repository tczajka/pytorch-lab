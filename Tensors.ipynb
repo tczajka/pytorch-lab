{
 "cells": [
  {
   "cell_type": "markdown",
   "id": "25717118-04e7-43b7-8949-b53d6cf79735",
   "metadata": {},
   "source": [
    "# Vectors"
   ]
  },
  {
   "cell_type": "code",
   "execution_count": 2,
   "id": "2ec22ef9-8d59-46a7-8dc3-72648f2db651",
   "metadata": {},
   "outputs": [],
   "source": [
    "import torch"
   ]
  },
  {
   "cell_type": "markdown",
   "id": "d2178ca3-50ef-4279-bb86-f7a68b3c3a6d",
   "metadata": {},
   "source": [
    "## Creating vectors"
   ]
  },
  {
   "cell_type": "code",
   "execution_count": 66,
   "id": "dc451b3c-20a6-4165-979d-13a59b996575",
   "metadata": {},
   "outputs": [
    {
     "name": "stdout",
     "output_type": "stream",
     "text": [
      "tensor([1., 2., 3., 4.])\n",
      "torch.Size([4])\n"
     ]
    }
   ],
   "source": [
    "a = torch.tensor([1, 2, 3, 4], dtype=torch.float32)\n",
    "print(a)\n",
    "print(a.shape)"
   ]
  },
  {
   "cell_type": "code",
   "execution_count": 4,
   "id": "2dd5a915-5135-4060-87c9-669190c7fd29",
   "metadata": {},
   "outputs": [
    {
     "name": "stdout",
     "output_type": "stream",
     "text": [
      "tensor([0., 0., 0., 0., 0., 0., 0., 0., 0., 0.])\n",
      "tensor([1., 1., 1., 1., 1., 1., 1., 1., 1., 1.])\n"
     ]
    }
   ],
   "source": [
    "print(torch.zeros(10))\n",
    "print(torch.ones(10))"
   ]
  },
  {
   "cell_type": "code",
   "execution_count": 23,
   "id": "4fdc8fe3-dac0-4aed-b36f-36ec89aaba83",
   "metadata": {},
   "outputs": [
    {
     "data": {
      "text/plain": [
       "tensor([0.4801, 0.1123, 0.7066,  ..., 0.5916, 0.4651, 0.8932])"
      ]
     },
     "execution_count": 23,
     "metadata": {},
     "output_type": "execute_result"
    }
   ],
   "source": [
    "torch.rand(10000)"
   ]
  },
  {
   "cell_type": "markdown",
   "id": "9356045c-4fb0-4c96-adb8-a8ecf8990ddc",
   "metadata": {},
   "source": [
    "## Vector operations"
   ]
  },
  {
   "cell_type": "code",
   "execution_count": 63,
   "id": "c9cd503f-9a6f-46f8-be42-6349aba8fad9",
   "metadata": {
    "jp-MarkdownHeadingCollapsed": true
   },
   "outputs": [
    {
     "data": {
      "text/plain": [
       "tensor(10.)"
      ]
     },
     "execution_count": 63,
     "metadata": {},
     "output_type": "execute_result"
    }
   ],
   "source": [
    "a.sum()"
   ]
  },
  {
   "cell_type": "code",
   "execution_count": 69,
   "id": "db864f19-4f5a-4c59-9bec-d966a9eedb0d",
   "metadata": {},
   "outputs": [
    {
     "name": "stdout",
     "output_type": "stream",
     "text": [
      "torch.Size([])\n",
      "10.0\n"
     ]
    }
   ],
   "source": [
    "print(a.sum().shape)\n",
    "print(a.sum().item())"
   ]
  },
  {
   "cell_type": "code",
   "execution_count": 58,
   "id": "0b9a42ae-4c03-4dbc-b12a-bb9bbf129d96",
   "metadata": {},
   "outputs": [
    {
     "name": "stdout",
     "output_type": "stream",
     "text": [
      "tensor([10., 11., 12., 13.])\n"
     ]
    }
   ],
   "source": [
    "b = torch.tensor([10, 11, 12, 13], dtype=torch.float32)\n",
    "print(b)"
   ]
  },
  {
   "cell_type": "code",
   "execution_count": 29,
   "id": "d6d0b8c6-e897-43bf-af80-7bbedef6c34e",
   "metadata": {},
   "outputs": [
    {
     "data": {
      "text/plain": [
       "tensor([11., 13., 15., 17.])"
      ]
     },
     "execution_count": 29,
     "metadata": {},
     "output_type": "execute_result"
    }
   ],
   "source": [
    "a + b"
   ]
  },
  {
   "cell_type": "code",
   "execution_count": 30,
   "id": "e3146443-a770-4046-ae2b-2a3849fd0eeb",
   "metadata": {},
   "outputs": [
    {
     "data": {
      "text/plain": [
       "tensor([10., 22., 36., 52.])"
      ]
     },
     "execution_count": 30,
     "metadata": {},
     "output_type": "execute_result"
    }
   ],
   "source": [
    "a * b"
   ]
  },
  {
   "cell_type": "code",
   "execution_count": 31,
   "id": "80b8fdbc-f6d5-449d-8eb5-50df42315135",
   "metadata": {},
   "outputs": [
    {
     "data": {
      "text/plain": [
       "tensor([ 1.,  4.,  9., 16.])"
      ]
     },
     "execution_count": 31,
     "metadata": {},
     "output_type": "execute_result"
    }
   ],
   "source": [
    "a ** 2"
   ]
  },
  {
   "cell_type": "code",
   "execution_count": 32,
   "id": "92923bd2-9216-4508-86c6-7550a6a274fd",
   "metadata": {},
   "outputs": [
    {
     "data": {
      "text/plain": [
       "tensor([1.0000, 1.4142, 1.7321, 2.0000])"
      ]
     },
     "execution_count": 32,
     "metadata": {},
     "output_type": "execute_result"
    }
   ],
   "source": [
    "a.sqrt()"
   ]
  },
  {
   "cell_type": "code",
   "execution_count": 33,
   "id": "7c887483-d5eb-403c-b4da-ad0d2e51338a",
   "metadata": {},
   "outputs": [
    {
     "data": {
      "text/plain": [
       "tensor([0.0000, 0.6931, 1.0986, 1.3863])"
      ]
     },
     "execution_count": 33,
     "metadata": {},
     "output_type": "execute_result"
    }
   ],
   "source": [
    "a.log()"
   ]
  },
  {
   "cell_type": "code",
   "execution_count": 34,
   "id": "3be45e06-dbf2-499d-94c8-06c2c890ed25",
   "metadata": {},
   "outputs": [
    {
     "data": {
      "text/plain": [
       "tensor([ 1.,  2.,  3.,  4., 10., 11., 12., 13.])"
      ]
     },
     "execution_count": 34,
     "metadata": {},
     "output_type": "execute_result"
    }
   ],
   "source": [
    "torch.cat([a, b])"
   ]
  },
  {
   "cell_type": "code",
   "execution_count": 62,
   "id": "57a261aa-6d3b-486c-af54-a6bfdfafbb0e",
   "metadata": {},
   "outputs": [
    {
     "data": {
      "text/plain": [
       "tensor(120.)"
      ]
     },
     "execution_count": 62,
     "metadata": {},
     "output_type": "execute_result"
    }
   ],
   "source": [
    "a.dot(b)"
   ]
  },
  {
   "cell_type": "code",
   "execution_count": 36,
   "id": "e3d04615-4c57-4360-ae89-7b638c707707",
   "metadata": {},
   "outputs": [
    {
     "data": {
      "text/plain": [
       "tensor([18., 19., 20., 21.])"
      ]
     },
     "execution_count": 36,
     "metadata": {},
     "output_type": "execute_result"
    }
   ],
   "source": [
    "a + 17"
   ]
  },
  {
   "cell_type": "markdown",
   "id": "811d772b-c130-4f48-927e-043e41e6286d",
   "metadata": {},
   "source": [
    "# Matrices"
   ]
  },
  {
   "cell_type": "code",
   "execution_count": 48,
   "id": "1595414d-caa4-453a-8b79-34f1393dca7b",
   "metadata": {},
   "outputs": [
    {
     "name": "stdout",
     "output_type": "stream",
     "text": [
      "tensor([[1., 2., 3.],\n",
      "        [4., 5., 6.]])\n",
      "torch.Size([2, 3])\n"
     ]
    }
   ],
   "source": [
    "A = torch.tensor([[1, 2, 3], [4, 5, 6]], dtype=torch.float32)\n",
    "print(A)\n",
    "print(A.shape)"
   ]
  },
  {
   "cell_type": "code",
   "execution_count": 53,
   "id": "bb3d71f6-9d73-4817-9bf1-717b13afe381",
   "metadata": {},
   "outputs": [
    {
     "name": "stdout",
     "output_type": "stream",
     "text": [
      "tensor([[0.1459, 0.0552, 0.0483, 0.4052],\n",
      "        [0.4719, 0.5244, 0.6610, 0.5729],\n",
      "        [0.1657, 0.3133, 0.7074, 0.3744]])\n"
     ]
    }
   ],
   "source": [
    "B = torch.rand([3, 4])\n",
    "print(B)"
   ]
  },
  {
   "cell_type": "code",
   "execution_count": 54,
   "id": "d6c2682c-8536-4d40-af41-6b4082f75acf",
   "metadata": {},
   "outputs": [
    {
     "data": {
      "text/plain": [
       "tensor([2.0218, 5.7952, 4.4120])"
      ]
     },
     "execution_count": 54,
     "metadata": {},
     "output_type": "execute_result"
    }
   ],
   "source": [
    "B @ a  # matrix-vector multiplication"
   ]
  },
  {
   "cell_type": "code",
   "execution_count": 55,
   "id": "4ce557ef-8128-4c0c-879f-185adf319aa6",
   "metadata": {},
   "outputs": [
    {
     "data": {
      "text/plain": [
       "tensor([[1.5869, 2.0438, 3.4925, 2.6741],\n",
       "        [3.9376, 4.7224, 7.7425, 6.7314]])"
      ]
     },
     "execution_count": 55,
     "metadata": {},
     "output_type": "execute_result"
    }
   ],
   "source": [
    "A @ B  # matrix-matrix multiplication"
   ]
  },
  {
   "cell_type": "code",
   "execution_count": 70,
   "id": "e5c9f7b5-112d-497c-aa68-4cbb8629b39f",
   "metadata": {},
   "outputs": [
    {
     "data": {
      "text/plain": [
       "tensor([0.6546, 2.2301, 1.5608])"
      ]
     },
     "execution_count": 70,
     "metadata": {},
     "output_type": "execute_result"
    }
   ],
   "source": [
    "B.sum(dim=1)"
   ]
  },
  {
   "cell_type": "code",
   "execution_count": 74,
   "id": "84d71e9f-9019-4598-87de-0d9db061964c",
   "metadata": {},
   "outputs": [
    {
     "data": {
      "text/plain": [
       "tensor([0.2612, 0.2976, 0.4722, 0.4508])"
      ]
     },
     "execution_count": 74,
     "metadata": {},
     "output_type": "execute_result"
    }
   ],
   "source": [
    "B.mean(dim=0)"
   ]
  },
  {
   "cell_type": "markdown",
   "id": "0df39b36-30b0-473b-8770-21fbd34a84fb",
   "metadata": {},
   "source": [
    "# 3D tensors"
   ]
  },
  {
   "cell_type": "code",
   "execution_count": 76,
   "id": "74e64ba3-28c8-4c08-867e-5b3e5c0b27b3",
   "metadata": {},
   "outputs": [
    {
     "name": "stdout",
     "output_type": "stream",
     "text": [
      "tensor([[[ 1.,  2.],\n",
      "         [ 3.,  4.]],\n",
      "\n",
      "        [[ 5.,  6.],\n",
      "         [ 7.,  8.]],\n",
      "\n",
      "        [[ 9., 10.],\n",
      "         [11., 12.]]])\n"
     ]
    }
   ],
   "source": [
    "X = torch.tensor([\n",
    "    [[1,2], [3,4]],\n",
    "    [[5,6], [7,8]],\n",
    "    [[9,10], [11,12]]], dtype=torch.float32)\n",
    "print(X)"
   ]
  },
  {
   "cell_type": "code",
   "execution_count": 78,
   "id": "7c4bd912-b392-4a51-8d32-552e4eee5fe5",
   "metadata": {},
   "outputs": [
    {
     "data": {
      "text/plain": [
       "tensor([[[  9.,  12.,  15.],\n",
       "         [ 19.,  26.,  33.]],\n",
       "\n",
       "        [[ 29.,  40.,  51.],\n",
       "         [ 39.,  54.,  69.]],\n",
       "\n",
       "        [[ 49.,  68.,  87.],\n",
       "         [ 59.,  82., 105.]]])"
      ]
     },
     "execution_count": 78,
     "metadata": {},
     "output_type": "execute_result"
    }
   ],
   "source": [
    "X @ A"
   ]
  },
  {
   "cell_type": "code",
   "execution_count": null,
   "id": "41cb210b-8b3f-4c99-a842-5e182c4b0446",
   "metadata": {},
   "outputs": [],
   "source": []
  }
 ],
 "metadata": {
  "kernelspec": {
   "display_name": "Python 3 (ipykernel)",
   "language": "python",
   "name": "python3"
  },
  "language_info": {
   "codemirror_mode": {
    "name": "ipython",
    "version": 3
   },
   "file_extension": ".py",
   "mimetype": "text/x-python",
   "name": "python",
   "nbconvert_exporter": "python",
   "pygments_lexer": "ipython3",
   "version": "3.12.3"
  }
 },
 "nbformat": 4,
 "nbformat_minor": 5
}
