{
 "cells": [
  {
   "cell_type": "markdown",
   "id": "3444a965-c57a-43d0-abd1-008d20b20b21",
   "metadata": {},
   "source": [
    "# Intro to pytorch Tensors"
   ]
  },
  {
   "cell_type": "code",
   "execution_count": 1,
   "id": "2ec22ef9-8d59-46a7-8dc3-72648f2db651",
   "metadata": {},
   "outputs": [],
   "source": [
    "import torch"
   ]
  },
  {
   "cell_type": "markdown",
   "id": "d2178ca3-50ef-4279-bb86-f7a68b3c3a6d",
   "metadata": {},
   "source": [
    "## Creating vectors"
   ]
  },
  {
   "cell_type": "code",
   "execution_count": 2,
   "id": "dc451b3c-20a6-4165-979d-13a59b996575",
   "metadata": {},
   "outputs": [
    {
     "name": "stdout",
     "output_type": "stream",
     "text": [
      "tensor([1., 2., 3., 4.])\n",
      "torch.Size([4])\n"
     ]
    }
   ],
   "source": [
    "a = torch.tensor([1, 2, 3, 4], dtype=torch.float32)\n",
    "print(a)\n",
    "print(a.shape)"
   ]
  },
  {
   "cell_type": "code",
   "execution_count": 3,
   "id": "2dd5a915-5135-4060-87c9-669190c7fd29",
   "metadata": {},
   "outputs": [
    {
     "name": "stdout",
     "output_type": "stream",
     "text": [
      "tensor([0., 0., 0., 0., 0., 0., 0., 0., 0., 0.])\n",
      "tensor([1., 1., 1., 1., 1., 1., 1., 1., 1., 1.])\n"
     ]
    }
   ],
   "source": [
    "print(torch.zeros(10))\n",
    "print(torch.ones(10))"
   ]
  },
  {
   "cell_type": "code",
   "execution_count": 4,
   "id": "4fdc8fe3-dac0-4aed-b36f-36ec89aaba83",
   "metadata": {},
   "outputs": [
    {
     "data": {
      "text/plain": [
       "tensor([0.6127, 0.8965, 0.7534,  ..., 0.2553, 0.3943, 0.1487])"
      ]
     },
     "execution_count": 4,
     "metadata": {},
     "output_type": "execute_result"
    }
   ],
   "source": [
    "torch.rand(10000)"
   ]
  },
  {
   "cell_type": "markdown",
   "id": "9356045c-4fb0-4c96-adb8-a8ecf8990ddc",
   "metadata": {},
   "source": [
    "## Vector operations"
   ]
  },
  {
   "cell_type": "code",
   "execution_count": 5,
   "id": "c9cd503f-9a6f-46f8-be42-6349aba8fad9",
   "metadata": {
    "jp-MarkdownHeadingCollapsed": true
   },
   "outputs": [
    {
     "data": {
      "text/plain": [
       "tensor(10.)"
      ]
     },
     "execution_count": 5,
     "metadata": {},
     "output_type": "execute_result"
    }
   ],
   "source": [
    "a.sum()"
   ]
  },
  {
   "cell_type": "code",
   "execution_count": 6,
   "id": "db864f19-4f5a-4c59-9bec-d966a9eedb0d",
   "metadata": {},
   "outputs": [
    {
     "name": "stdout",
     "output_type": "stream",
     "text": [
      "torch.Size([])\n",
      "10.0\n"
     ]
    }
   ],
   "source": [
    "print(a.sum().shape)\n",
    "print(a.sum().item())"
   ]
  },
  {
   "cell_type": "code",
   "execution_count": 7,
   "id": "0b9a42ae-4c03-4dbc-b12a-bb9bbf129d96",
   "metadata": {},
   "outputs": [
    {
     "name": "stdout",
     "output_type": "stream",
     "text": [
      "tensor([10., 11., 12., 13.])\n"
     ]
    }
   ],
   "source": [
    "b = torch.tensor([10, 11, 12, 13], dtype=torch.float32)\n",
    "print(b)"
   ]
  },
  {
   "cell_type": "code",
   "execution_count": 8,
   "id": "d6d0b8c6-e897-43bf-af80-7bbedef6c34e",
   "metadata": {},
   "outputs": [
    {
     "data": {
      "text/plain": [
       "tensor([11., 13., 15., 17.])"
      ]
     },
     "execution_count": 8,
     "metadata": {},
     "output_type": "execute_result"
    }
   ],
   "source": [
    "a + b"
   ]
  },
  {
   "cell_type": "code",
   "execution_count": 9,
   "id": "e3146443-a770-4046-ae2b-2a3849fd0eeb",
   "metadata": {},
   "outputs": [
    {
     "data": {
      "text/plain": [
       "tensor([10., 22., 36., 52.])"
      ]
     },
     "execution_count": 9,
     "metadata": {},
     "output_type": "execute_result"
    }
   ],
   "source": [
    "a * b"
   ]
  },
  {
   "cell_type": "code",
   "execution_count": 10,
   "id": "80b8fdbc-f6d5-449d-8eb5-50df42315135",
   "metadata": {},
   "outputs": [
    {
     "data": {
      "text/plain": [
       "tensor([ 1.,  4.,  9., 16.])"
      ]
     },
     "execution_count": 10,
     "metadata": {},
     "output_type": "execute_result"
    }
   ],
   "source": [
    "a ** 2"
   ]
  },
  {
   "cell_type": "code",
   "execution_count": 11,
   "id": "92923bd2-9216-4508-86c6-7550a6a274fd",
   "metadata": {},
   "outputs": [
    {
     "data": {
      "text/plain": [
       "tensor([1.0000, 1.4142, 1.7321, 2.0000])"
      ]
     },
     "execution_count": 11,
     "metadata": {},
     "output_type": "execute_result"
    }
   ],
   "source": [
    "a.sqrt()"
   ]
  },
  {
   "cell_type": "code",
   "execution_count": 12,
   "id": "7c887483-d5eb-403c-b4da-ad0d2e51338a",
   "metadata": {},
   "outputs": [
    {
     "data": {
      "text/plain": [
       "tensor([0.0000, 0.6931, 1.0986, 1.3863])"
      ]
     },
     "execution_count": 12,
     "metadata": {},
     "output_type": "execute_result"
    }
   ],
   "source": [
    "a.log()"
   ]
  },
  {
   "cell_type": "code",
   "execution_count": 13,
   "id": "3be45e06-dbf2-499d-94c8-06c2c890ed25",
   "metadata": {},
   "outputs": [
    {
     "data": {
      "text/plain": [
       "tensor([ 1.,  2.,  3.,  4., 10., 11., 12., 13.])"
      ]
     },
     "execution_count": 13,
     "metadata": {},
     "output_type": "execute_result"
    }
   ],
   "source": [
    "torch.cat([a, b])"
   ]
  },
  {
   "cell_type": "code",
   "execution_count": 14,
   "id": "57a261aa-6d3b-486c-af54-a6bfdfafbb0e",
   "metadata": {},
   "outputs": [
    {
     "data": {
      "text/plain": [
       "tensor(120.)"
      ]
     },
     "execution_count": 14,
     "metadata": {},
     "output_type": "execute_result"
    }
   ],
   "source": [
    "a.dot(b)"
   ]
  },
  {
   "cell_type": "code",
   "execution_count": 15,
   "id": "e3d04615-4c57-4360-ae89-7b638c707707",
   "metadata": {
    "scrolled": true
   },
   "outputs": [
    {
     "data": {
      "text/plain": [
       "tensor([18., 19., 20., 21.])"
      ]
     },
     "execution_count": 15,
     "metadata": {},
     "output_type": "execute_result"
    }
   ],
   "source": [
    "a + 17"
   ]
  },
  {
   "cell_type": "code",
   "execution_count": 25,
   "id": "e944c55d-b1d6-4322-bf05-4f0473da7fca",
   "metadata": {},
   "outputs": [
    {
     "data": {
      "text/plain": [
       "tensor(3)"
      ]
     },
     "execution_count": 25,
     "metadata": {},
     "output_type": "execute_result"
    }
   ],
   "source": [
    "a.argmax(0)"
   ]
  },
  {
   "cell_type": "markdown",
   "id": "811d772b-c130-4f48-927e-043e41e6286d",
   "metadata": {},
   "source": [
    "## Matrices"
   ]
  },
  {
   "cell_type": "code",
   "execution_count": 17,
   "id": "1595414d-caa4-453a-8b79-34f1393dca7b",
   "metadata": {},
   "outputs": [
    {
     "name": "stdout",
     "output_type": "stream",
     "text": [
      "tensor([[1., 2., 3.],\n",
      "        [4., 5., 6.]])\n",
      "torch.Size([2, 3])\n"
     ]
    }
   ],
   "source": [
    "A = torch.tensor([[1, 2, 3], [4, 5, 6]], dtype=torch.float32)\n",
    "print(A)\n",
    "print(A.shape)"
   ]
  },
  {
   "cell_type": "code",
   "execution_count": 18,
   "id": "bb3d71f6-9d73-4817-9bf1-717b13afe381",
   "metadata": {},
   "outputs": [
    {
     "name": "stdout",
     "output_type": "stream",
     "text": [
      "tensor([[0.3621, 0.2942, 0.1394, 0.6673],\n",
      "        [0.9018, 0.0154, 0.8717, 0.1557],\n",
      "        [0.5143, 0.5293, 0.0756, 0.4765]])\n"
     ]
    }
   ],
   "source": [
    "B = torch.rand([3, 4])\n",
    "print(B)"
   ]
  },
  {
   "cell_type": "code",
   "execution_count": 19,
   "id": "d6c2682c-8536-4d40-af41-6b4082f75acf",
   "metadata": {},
   "outputs": [
    {
     "data": {
      "text/plain": [
       "tensor([4.0377, 4.1704, 3.7058])"
      ]
     },
     "execution_count": 19,
     "metadata": {},
     "output_type": "execute_result"
    }
   ],
   "source": [
    "B @ a  # matrix-vector multiplication"
   ]
  },
  {
   "cell_type": "code",
   "execution_count": 20,
   "id": "4ce557ef-8128-4c0c-879f-185adf319aa6",
   "metadata": {},
   "outputs": [
    {
     "data": {
      "text/plain": [
       "tensor([[3.7086, 1.9129, 2.1095, 2.4082],\n",
       "        [9.0431, 4.4296, 5.3695, 6.3066]])"
      ]
     },
     "execution_count": 20,
     "metadata": {},
     "output_type": "execute_result"
    }
   ],
   "source": [
    "A @ B  # matrix-matrix multiplication"
   ]
  },
  {
   "cell_type": "code",
   "execution_count": 21,
   "id": "e5c9f7b5-112d-497c-aa68-4cbb8629b39f",
   "metadata": {},
   "outputs": [
    {
     "data": {
      "text/plain": [
       "tensor([1.4629, 1.9446, 1.5957])"
      ]
     },
     "execution_count": 21,
     "metadata": {},
     "output_type": "execute_result"
    }
   ],
   "source": [
    "B.sum(dim=1)"
   ]
  },
  {
   "cell_type": "code",
   "execution_count": 22,
   "id": "84d71e9f-9019-4598-87de-0d9db061964c",
   "metadata": {},
   "outputs": [
    {
     "data": {
      "text/plain": [
       "tensor([0.5927, 0.2796, 0.3622, 0.4332])"
      ]
     },
     "execution_count": 22,
     "metadata": {},
     "output_type": "execute_result"
    }
   ],
   "source": [
    "B.mean(dim=0)"
   ]
  },
  {
   "cell_type": "code",
   "execution_count": 26,
   "id": "bd9ca045-a53b-4df6-a1c2-0ca988aeb57c",
   "metadata": {},
   "outputs": [
    {
     "data": {
      "text/plain": [
       "tensor([[1., 2.],\n",
       "        [3., 4.],\n",
       "        [5., 6.]])"
      ]
     },
     "execution_count": 26,
     "metadata": {},
     "output_type": "execute_result"
    }
   ],
   "source": [
    "A.reshape(3, 2)"
   ]
  },
  {
   "cell_type": "markdown",
   "id": "0df39b36-30b0-473b-8770-21fbd34a84fb",
   "metadata": {},
   "source": [
    "## 3D tensors"
   ]
  },
  {
   "cell_type": "code",
   "execution_count": 23,
   "id": "74e64ba3-28c8-4c08-867e-5b3e5c0b27b3",
   "metadata": {},
   "outputs": [
    {
     "name": "stdout",
     "output_type": "stream",
     "text": [
      "tensor([[[ 1.,  2.],\n",
      "         [ 3.,  4.]],\n",
      "\n",
      "        [[ 5.,  6.],\n",
      "         [ 7.,  8.]],\n",
      "\n",
      "        [[ 9., 10.],\n",
      "         [11., 12.]]])\n"
     ]
    }
   ],
   "source": [
    "X = torch.tensor([\n",
    "    [[1,2], [3,4]],\n",
    "    [[5,6], [7,8]],\n",
    "    [[9,10], [11,12]]], dtype=torch.float32)\n",
    "print(X)"
   ]
  },
  {
   "cell_type": "code",
   "execution_count": 24,
   "id": "7c4bd912-b392-4a51-8d32-552e4eee5fe5",
   "metadata": {},
   "outputs": [
    {
     "data": {
      "text/plain": [
       "tensor([[[  9.,  12.,  15.],\n",
       "         [ 19.,  26.,  33.]],\n",
       "\n",
       "        [[ 29.,  40.,  51.],\n",
       "         [ 39.,  54.,  69.]],\n",
       "\n",
       "        [[ 49.,  68.,  87.],\n",
       "         [ 59.,  82., 105.]]])"
      ]
     },
     "execution_count": 24,
     "metadata": {},
     "output_type": "execute_result"
    }
   ],
   "source": [
    "X @ A"
   ]
  }
 ],
 "metadata": {
  "kernelspec": {
   "display_name": "Python 3 (ipykernel)",
   "language": "python",
   "name": "python3"
  },
  "language_info": {
   "codemirror_mode": {
    "name": "ipython",
    "version": 3
   },
   "file_extension": ".py",
   "mimetype": "text/x-python",
   "name": "python",
   "nbconvert_exporter": "python",
   "pygments_lexer": "ipython3",
   "version": "3.12.3"
  }
 },
 "nbformat": 4,
 "nbformat_minor": 5
}
