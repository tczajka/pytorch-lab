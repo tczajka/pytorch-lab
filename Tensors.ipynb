{
 "cells": [
  {
   "cell_type": "markdown",
   "id": "3444a965-c57a-43d0-abd1-008d20b20b21",
   "metadata": {},
   "source": [
    "# Intro to pytorch Tensors"
   ]
  },
  {
   "cell_type": "code",
   "execution_count": null,
   "id": "2ec22ef9-8d59-46a7-8dc3-72648f2db651",
   "metadata": {},
   "outputs": [],
   "source": [
    "import torch"
   ]
  },
  {
   "cell_type": "markdown",
   "id": "d2178ca3-50ef-4279-bb86-f7a68b3c3a6d",
   "metadata": {},
   "source": [
    "## Creating vectors"
   ]
  },
  {
   "cell_type": "code",
   "execution_count": null,
   "id": "dc451b3c-20a6-4165-979d-13a59b996575",
   "metadata": {},
   "outputs": [],
   "source": [
    "a = torch.tensor([1, 2, 3, 4], dtype=torch.float32)\n",
    "print(a)\n",
    "print(a.shape)"
   ]
  },
  {
   "cell_type": "code",
   "execution_count": null,
   "id": "2dd5a915-5135-4060-87c9-669190c7fd29",
   "metadata": {},
   "outputs": [],
   "source": [
    "print(torch.zeros(10))\n",
    "print(torch.ones(10))"
   ]
  },
  {
   "cell_type": "code",
   "execution_count": null,
   "id": "4fdc8fe3-dac0-4aed-b36f-36ec89aaba83",
   "metadata": {},
   "outputs": [],
   "source": [
    "torch.rand(10000)"
   ]
  },
  {
   "cell_type": "markdown",
   "id": "9356045c-4fb0-4c96-adb8-a8ecf8990ddc",
   "metadata": {},
   "source": [
    "## Vector operations"
   ]
  },
  {
   "cell_type": "code",
   "execution_count": null,
   "id": "c9cd503f-9a6f-46f8-be42-6349aba8fad9",
   "metadata": {
    "jp-MarkdownHeadingCollapsed": true
   },
   "outputs": [],
   "source": [
    "a.sum()"
   ]
  },
  {
   "cell_type": "code",
   "execution_count": null,
   "id": "db864f19-4f5a-4c59-9bec-d966a9eedb0d",
   "metadata": {},
   "outputs": [],
   "source": [
    "print(a.sum().shape)\n",
    "print(a.sum().item())"
   ]
  },
  {
   "cell_type": "code",
   "execution_count": null,
   "id": "0b9a42ae-4c03-4dbc-b12a-bb9bbf129d96",
   "metadata": {},
   "outputs": [],
   "source": [
    "b = torch.tensor([10, 11, 12, 13], dtype=torch.float32)\n",
    "print(b)"
   ]
  },
  {
   "cell_type": "code",
   "execution_count": null,
   "id": "d6d0b8c6-e897-43bf-af80-7bbedef6c34e",
   "metadata": {},
   "outputs": [],
   "source": [
    "a + b"
   ]
  },
  {
   "cell_type": "code",
   "execution_count": null,
   "id": "e3146443-a770-4046-ae2b-2a3849fd0eeb",
   "metadata": {},
   "outputs": [],
   "source": [
    "a * b"
   ]
  },
  {
   "cell_type": "code",
   "execution_count": null,
   "id": "80b8fdbc-f6d5-449d-8eb5-50df42315135",
   "metadata": {},
   "outputs": [],
   "source": [
    "a ** 2"
   ]
  },
  {
   "cell_type": "code",
   "execution_count": null,
   "id": "92923bd2-9216-4508-86c6-7550a6a274fd",
   "metadata": {},
   "outputs": [],
   "source": [
    "a.sqrt()"
   ]
  },
  {
   "cell_type": "code",
   "execution_count": null,
   "id": "7c887483-d5eb-403c-b4da-ad0d2e51338a",
   "metadata": {},
   "outputs": [],
   "source": [
    "a.log()"
   ]
  },
  {
   "cell_type": "code",
   "execution_count": null,
   "id": "3be45e06-dbf2-499d-94c8-06c2c890ed25",
   "metadata": {},
   "outputs": [],
   "source": [
    "torch.cat([a, b])"
   ]
  },
  {
   "cell_type": "code",
   "execution_count": null,
   "id": "57a261aa-6d3b-486c-af54-a6bfdfafbb0e",
   "metadata": {},
   "outputs": [],
   "source": [
    "a.dot(b)"
   ]
  },
  {
   "cell_type": "code",
   "execution_count": null,
   "id": "e3d04615-4c57-4360-ae89-7b638c707707",
   "metadata": {},
   "outputs": [],
   "source": [
    "a + 17"
   ]
  },
  {
   "cell_type": "code",
   "execution_count": null,
   "id": "e944c55d-b1d6-4322-bf05-4f0473da7fca",
   "metadata": {},
   "outputs": [],
   "source": [
    "a.argmax(0)"
   ]
  },
  {
   "cell_type": "markdown",
   "id": "811d772b-c130-4f48-927e-043e41e6286d",
   "metadata": {},
   "source": [
    "## Matrices"
   ]
  },
  {
   "cell_type": "code",
   "execution_count": null,
   "id": "1595414d-caa4-453a-8b79-34f1393dca7b",
   "metadata": {},
   "outputs": [],
   "source": [
    "A = torch.tensor([[1, 2, 3], [4, 5, 6]], dtype=torch.float32)\n",
    "print(A)\n",
    "print(A.shape)"
   ]
  },
  {
   "cell_type": "code",
   "execution_count": null,
   "id": "bb3d71f6-9d73-4817-9bf1-717b13afe381",
   "metadata": {},
   "outputs": [],
   "source": [
    "B = torch.rand([3, 4])\n",
    "print(B)"
   ]
  },
  {
   "cell_type": "code",
   "execution_count": null,
   "id": "d6c2682c-8536-4d40-af41-6b4082f75acf",
   "metadata": {},
   "outputs": [],
   "source": [
    "B @ a  # matrix-vector multiplication"
   ]
  },
  {
   "cell_type": "code",
   "execution_count": null,
   "id": "4ce557ef-8128-4c0c-879f-185adf319aa6",
   "metadata": {},
   "outputs": [],
   "source": [
    "A @ B  # matrix-matrix multiplication"
   ]
  },
  {
   "cell_type": "code",
   "execution_count": null,
   "id": "e5c9f7b5-112d-497c-aa68-4cbb8629b39f",
   "metadata": {},
   "outputs": [],
   "source": [
    "B.sum(dim=1)"
   ]
  },
  {
   "cell_type": "code",
   "execution_count": null,
   "id": "84d71e9f-9019-4598-87de-0d9db061964c",
   "metadata": {},
   "outputs": [],
   "source": [
    "B.mean(dim=0)"
   ]
  },
  {
   "cell_type": "code",
   "execution_count": null,
   "id": "bd9ca045-a53b-4df6-a1c2-0ca988aeb57c",
   "metadata": {},
   "outputs": [],
   "source": [
    "A.reshape(3, 2)"
   ]
  },
  {
   "cell_type": "code",
   "execution_count": null,
   "id": "ea110462-ad10-43de-a20f-01f480a7deb1",
   "metadata": {},
   "outputs": [],
   "source": [
    "A.flatten()"
   ]
  },
  {
   "cell_type": "markdown",
   "id": "0df39b36-30b0-473b-8770-21fbd34a84fb",
   "metadata": {},
   "source": [
    "## 3D tensors"
   ]
  },
  {
   "cell_type": "code",
   "execution_count": null,
   "id": "74e64ba3-28c8-4c08-867e-5b3e5c0b27b3",
   "metadata": {},
   "outputs": [],
   "source": [
    "X = torch.tensor([\n",
    "    [[1,2], [3,4]],\n",
    "    [[5,6], [7,8]],\n",
    "    [[9,10], [11,12]]], dtype=torch.float32)\n",
    "print(X)"
   ]
  },
  {
   "cell_type": "code",
   "execution_count": null,
   "id": "7c4bd912-b392-4a51-8d32-552e4eee5fe5",
   "metadata": {},
   "outputs": [],
   "source": [
    "X @ A"
   ]
  },
  {
   "cell_type": "markdown",
   "id": "301ece60-6c9e-46f4-a757-c33b803f3426",
   "metadata": {},
   "source": [
    "# Automatic differentiation"
   ]
  },
  {
   "cell_type": "code",
   "execution_count": null,
   "id": "4df6de35-296d-4df8-a61c-ab698e5e9416",
   "metadata": {},
   "outputs": [],
   "source": [
    "a = torch.tensor([1.0, 2.0, 3.0, 4.0], requires_grad=True)\n",
    "b = torch.tensor([5.0, 6.0, 7.0, 8.0], requires_grad=True)\n",
    "c = a * b\n",
    "print(c)"
   ]
  },
  {
   "cell_type": "code",
   "execution_count": null,
   "id": "79d174b4-b927-491b-abcb-a8c933a795df",
   "metadata": {},
   "outputs": [],
   "source": [
    "d = c ** 2\n",
    "print(d)"
   ]
  },
  {
   "cell_type": "code",
   "execution_count": null,
   "id": "1359842a-2132-453e-8494-e44f58d7f47d",
   "metadata": {},
   "outputs": [],
   "source": [
    "e = d.sum()\n",
    "print(e)"
   ]
  },
  {
   "cell_type": "code",
   "execution_count": null,
   "id": "92351d0b-106c-4d9a-901d-4bd517b452df",
   "metadata": {},
   "outputs": [],
   "source": [
    "e.backward()"
   ]
  },
  {
   "cell_type": "code",
   "execution_count": null,
   "id": "b56de4a8-0acc-45be-8c73-e62b009e0c6c",
   "metadata": {},
   "outputs": [],
   "source": [
    "print(a.grad)\n",
    "print(b.grad)"
   ]
  },
  {
   "cell_type": "code",
   "execution_count": null,
   "id": "079835c3-ba2a-4f8c-93d0-f891a2be57f0",
   "metadata": {},
   "outputs": [],
   "source": [
    "from torch import nn\n",
    "layer = nn.Softmax(dim=0)"
   ]
  },
  {
   "cell_type": "code",
   "execution_count": null,
   "id": "ff71bd2c-5105-4806-ac8c-25a986c05200",
   "metadata": {},
   "outputs": [],
   "source": [
    "a = torch.tensor([-5.0, 1.0, 0.3])\n",
    "layer(a)"
   ]
  },
  {
   "cell_type": "code",
   "execution_count": null,
   "id": "2ae7205a-0abb-4e68-86e5-69b8e692d3f6",
   "metadata": {},
   "outputs": [],
   "source": []
  }
 ],
 "metadata": {
  "kernelspec": {
   "display_name": "Python 3 (ipykernel)",
   "language": "python",
   "name": "python3"
  },
  "language_info": {
   "codemirror_mode": {
    "name": "ipython",
    "version": 3
   },
   "file_extension": ".py",
   "mimetype": "text/x-python",
   "name": "python",
   "nbconvert_exporter": "python",
   "pygments_lexer": "ipython3",
   "version": "3.12.3"
  }
 },
 "nbformat": 4,
 "nbformat_minor": 5
}
