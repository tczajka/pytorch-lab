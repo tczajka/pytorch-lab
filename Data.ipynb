{
 "cells": [
  {
   "cell_type": "markdown",
   "id": "2418b03c-378b-4297-a0eb-30afefd2baf5",
   "metadata": {},
   "source": [
    "# Loading data"
   ]
  },
  {
   "cell_type": "markdown",
   "id": "67e65957-76e5-46f5-9325-037279666bbb",
   "metadata": {},
   "source": [
    "## Load MNIST torchvision training and test set"
   ]
  },
  {
   "cell_type": "code",
   "execution_count": 38,
   "id": "8c1bb57b-7aaa-49cc-98eb-40bb8d911672",
   "metadata": {},
   "outputs": [
    {
     "name": "stdout",
     "output_type": "stream",
     "text": [
      "60000\n",
      "10000\n"
     ]
    }
   ],
   "source": [
    "from torchvision import datasets\n",
    "from torchvision.transforms import ToTensor\n",
    "\n",
    "training_data = datasets.MNIST(\n",
    "    'data/',\n",
    "    train = True,\n",
    "    transform=ToTensor(),\n",
    "    download = True)\n",
    "\n",
    "test_data = datasets.MNIST(\n",
    "    'data/',\n",
    "    train = False,\n",
    "    transform=ToTensor(),\n",
    "    download = True)\n",
    "\n",
    "print(len(training_data))\n",
    "print(len(test_data))"
   ]
  },
  {
   "cell_type": "code",
   "execution_count": null,
   "id": "54165c32-a297-4306-b881-bb11cfed86e7",
   "metadata": {},
   "outputs": [],
   "source": [
    "(image, label) = training_data[0]\n",
    "print(image)\n",
    "print(image.shape)\n",
    "print(label)"
   ]
  },
  {
   "cell_type": "markdown",
   "id": "d368e101-3fcb-4e4b-ae27-44647279143c",
   "metadata": {},
   "source": [
    "## Visualization"
   ]
  },
  {
   "cell_type": "markdown",
   "id": "61688960-3d45-42fe-be89-ab10396cf012",
   "metadata": {},
   "source": [
    "### Training data"
   ]
  },
  {
   "cell_type": "code",
   "execution_count": 55,
   "id": "6f2447b0-e0e4-4813-87c7-c20b2afff1d6",
   "metadata": {},
   "outputs": [
    {
     "name": "stdout",
     "output_type": "stream",
     "text": [
      "1\n"
     ]
    },
    {
     "data": {
      "image/png": "[encoded data removed]",
      "text/plain": [
       "<Figure size 640x480 with 1 Axes>"
      ]
     },
     "metadata": {},
     "output_type": "display_data"
    }
   ],
   "source": [
    "import random\n",
    "from matplotlib import pyplot\n",
    "\n",
    "(image, label) = random.choice(training_data)\n",
    "pyplot.imshow(image[0])\n",
    "print(label)"
   ]
  },
  {
   "cell_type": "markdown",
   "id": "1ebdf2a4-6cf6-4ff2-a446-99f2cc7453d9",
   "metadata": {},
   "source": [
    "### Test data"
   ]
  },
  {
   "cell_type": "code",
   "execution_count": 57,
   "id": "dbf7529c-0b69-436a-b49c-fe6d056c5d12",
   "metadata": {},
   "outputs": [
    {
     "name": "stdout",
     "output_type": "stream",
     "text": [
      "8\n"
     ]
    },
    {
     "data": {
      "image/png": "[encoded data removed]",
      "text/plain": [
       "<Figure size 640x480 with 1 Axes>"
      ]
     },
     "metadata": {},
     "output_type": "display_data"
    }
   ],
   "source": [
    "(image, label) = random.choice(test_data)\n",
    "pyplot.imshow(image[0])\n",
    "print(label)"
   ]
  },
  {
   "cell_type": "markdown",
   "id": "ec053bf3-0989-45fe-b971-fe4c271abe80",
   "metadata": {},
   "source": [
    "## DataLoader"
   ]
  },
  {
   "cell_type": "code",
   "execution_count": 58,
   "id": "a79155cb-879a-4a2d-8539-f2a926bf4128",
   "metadata": {},
   "outputs": [],
   "source": [
    "from torch.utils.data import DataLoader\n",
    "\n",
    "train_dataloader = DataLoader(training_data, batch_size=64, shuffle=True)"
   ]
  },
  {
   "cell_type": "code",
   "execution_count": 62,
   "id": "f5e31e8a-d5be-42f7-a3cc-f53bfe2a8bcb",
   "metadata": {},
   "outputs": [
    {
     "name": "stdout",
     "output_type": "stream",
     "text": [
      "torch.Size([64, 1, 28, 28]) torch.float32\n",
      "tensor([5, 3, 4, 4, 5, 2, 8, 3, 7, 2, 8, 7, 3, 3, 2, 7, 7, 7, 1, 8, 2, 7, 9, 9,\n",
      "        2, 2, 8, 7, 1, 4, 0, 9, 3, 4, 9, 8, 0, 8, 9, 3, 3, 0, 3, 2, 2, 6, 3, 4,\n",
      "        8, 6, 6, 9, 6, 5, 1, 6, 1, 0, 6, 7, 2, 3, 6, 9])\n",
      "torch.Size([64, 1, 28, 28]) torch.float32\n",
      "tensor([2, 2, 5, 0, 9, 9, 6, 6, 2, 7, 3, 2, 8, 5, 2, 6, 7, 2, 5, 8, 0, 4, 0, 8,\n",
      "        7, 0, 0, 0, 1, 1, 2, 2, 9, 5, 6, 2, 5, 9, 7, 7, 1, 2, 1, 2, 4, 3, 9, 0,\n",
      "        2, 9, 6, 2, 1, 8, 8, 4, 4, 4, 1, 3, 8, 5, 0, 1])\n",
      "torch.Size([64, 1, 28, 28]) torch.float32\n",
      "tensor([1, 2, 0, 6, 6, 8, 6, 4, 4, 0, 8, 3, 1, 0, 9, 7, 6, 8, 6, 3, 8, 4, 3, 3,\n",
      "        9, 1, 7, 0, 3, 4, 4, 4, 5, 4, 0, 7, 2, 5, 0, 5, 1, 4, 3, 4, 1, 4, 9, 2,\n",
      "        2, 8, 9, 7, 3, 8, 7, 7, 2, 3, 1, 1, 1, 3, 7, 1])\n",
      "torch.Size([64, 1, 28, 28]) torch.float32\n",
      "tensor([2, 8, 3, 5, 3, 5, 4, 0, 9, 7, 1, 3, 3, 0, 9, 2, 2, 0, 1, 7, 6, 8, 9, 2,\n",
      "        5, 4, 6, 7, 2, 9, 0, 3, 1, 7, 4, 4, 5, 3, 5, 4, 4, 7, 0, 3, 0, 9, 3, 8,\n",
      "        6, 1, 4, 3, 7, 7, 2, 6, 2, 2, 4, 1, 0, 9, 8, 8])\n",
      "torch.Size([64, 1, 28, 28]) torch.float32\n",
      "tensor([8, 2, 4, 5, 1, 2, 5, 7, 6, 1, 8, 8, 8, 8, 4, 1, 5, 0, 0, 3, 7, 5, 6, 0,\n",
      "        2, 1, 2, 5, 6, 8, 0, 7, 2, 8, 6, 5, 6, 6, 7, 6, 7, 2, 2, 7, 2, 3, 3, 6,\n",
      "        6, 8, 5, 6, 8, 3, 3, 3, 2, 2, 7, 8, 5, 9, 7, 5])\n",
      "torch.Size([64, 1, 28, 28]) torch.float32\n",
      "tensor([3, 4, 6, 3, 2, 8, 7, 0, 0, 7, 2, 3, 7, 4, 7, 3, 5, 0, 4, 7, 5, 1, 6, 3,\n",
      "        3, 2, 0, 8, 6, 5, 4, 5, 9, 6, 4, 8, 0, 7, 6, 7, 3, 9, 8, 9, 5, 9, 6, 9,\n",
      "        8, 8, 3, 5, 1, 4, 0, 1, 8, 8, 2, 6, 3, 6, 3, 1])\n",
      "torch.Size([64, 1, 28, 28]) torch.float32\n",
      "tensor([4, 1, 9, 3, 2, 3, 0, 6, 5, 2, 1, 4, 6, 7, 5, 8, 7, 9, 0, 6, 3, 3, 8, 6,\n",
      "        3, 4, 9, 0, 7, 3, 2, 1, 3, 3, 8, 1, 1, 8, 8, 9, 3, 8, 3, 1, 6, 6, 4, 2,\n",
      "        6, 4, 4, 7, 1, 6, 2, 2, 4, 8, 9, 1, 1, 4, 3, 1])\n",
      "torch.Size([64, 1, 28, 28]) torch.float32\n",
      "tensor([0, 2, 1, 3, 8, 9, 5, 3, 7, 5, 1, 5, 5, 0, 7, 2, 4, 6, 1, 7, 9, 3, 4, 7,\n",
      "        8, 0, 7, 1, 6, 9, 4, 0, 7, 1, 1, 8, 5, 1, 8, 6, 0, 9, 5, 6, 9, 6, 5, 2,\n",
      "        9, 0, 4, 3, 7, 9, 3, 0, 9, 0, 7, 1, 2, 0, 5, 8])\n",
      "torch.Size([64, 1, 28, 28]) torch.float32\n",
      "tensor([1, 8, 4, 4, 6, 7, 7, 5, 0, 0, 2, 6, 5, 6, 8, 0, 8, 0, 0, 4, 4, 2, 3, 3,\n",
      "        8, 3, 3, 7, 2, 7, 0, 4, 2, 9, 1, 9, 8, 5, 2, 7, 1, 6, 7, 2, 5, 1, 3, 1,\n",
      "        7, 9, 1, 1, 2, 5, 2, 6, 8, 4, 6, 1, 6, 4, 1, 2])\n",
      "torch.Size([64, 1, 28, 28]) torch.float32\n",
      "tensor([3, 7, 0, 3, 6, 8, 8, 6, 0, 4, 1, 4, 1, 0, 4, 2, 0, 5, 5, 8, 2, 4, 0, 9,\n",
      "        7, 2, 8, 6, 9, 9, 3, 8, 7, 6, 5, 1, 2, 1, 9, 2, 9, 3, 1, 7, 3, 1, 1, 7,\n",
      "        1, 0, 9, 4, 9, 3, 9, 5, 0, 3, 1, 1, 7, 1, 7, 5])\n"
     ]
    }
   ],
   "source": [
    "count = 0\n",
    "for (features, labels) in train_dataloader:\n",
    "    print(features.shape, features.dtype)\n",
    "    print(labels)\n",
    "    count += 1\n",
    "    if count == 10: break"
   ]
  },
  {
   "cell_type": "code",
   "execution_count": null,
   "id": "7e814f89-7cd2-4f31-8399-69794c57e6e8",
   "metadata": {},
   "outputs": [],
   "source": []
  }
 ],
 "metadata": {
  "kernelspec": {
   "display_name": "Python 3 (ipykernel)",
   "language": "python",
   "name": "python3"
  },
  "language_info": {
   "codemirror_mode": {
    "name": "ipython",
    "version": 3
   },
   "file_extension": ".py",
   "mimetype": "text/x-python",
   "name": "python",
   "nbconvert_exporter": "python",
   "pygments_lexer": "ipython3",
   "version": "3.12.3"
  }
 },
 "nbformat": 4,
 "nbformat_minor": 5
}
