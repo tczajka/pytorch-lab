{
 "cells": [
  {
   "cell_type": "markdown",
   "id": "9b7e23ae-a5d1-4559-a16e-fea7591c399e",
   "metadata": {},
   "source": [
    "# Let's build a digit classifier!"
   ]
  },
  {
   "cell_type": "markdown",
   "id": "6c398061-f223-4dfb-a6a5-f493fda93358",
   "metadata": {},
   "source": [
    "# Load MNIST training and test set"
   ]
  },
  {
   "cell_type": "code",
   "execution_count": null,
   "id": "40ddb188-fc87-4ae3-9760-c51c597ab70e",
   "metadata": {},
   "outputs": [],
   "source": [
    "from torchvision import datasets\n",
    "from torchvision.transforms import ToTensor\n",
    "\n",
    "training_data = datasets.MNIST(\n",
    "    'data/',\n",
    "    train = True,\n",
    "    transform = ToTensor(),\n",
    "    download = True)\n",
    "\n",
    "test_data = datasets.MNIST(\n",
    "    'data/',\n",
    "    train = False,\n",
    "    transform = ToTensor(),\n",
    "    download = True)\n",
    "    \n",
    "print(len(training_data), len(test_data))"
   ]
  },
  {
   "cell_type": "markdown",
   "id": "2062b95e-60e9-44c1-82ef-68c48f2870de",
   "metadata": {},
   "source": [
    "# Look at the data"
   ]
  },
  {
   "cell_type": "code",
   "execution_count": null,
   "id": "0da5b858-eea8-4746-a2ec-74d5bb4a1fa7",
   "metadata": {
    "scrolled": true
   },
   "outputs": [],
   "source": [
    "(image, label) = training_data[0]\n",
    "print(image)\n",
    "print(image.shape)\n",
    "print(label)"
   ]
  },
  {
   "cell_type": "markdown",
   "id": "0af28874-70bc-4e15-b207-f46756708364",
   "metadata": {},
   "source": [
    "# Visualize using matplotlib"
   ]
  },
  {
   "cell_type": "code",
   "execution_count": null,
   "id": "d015b8de-1513-4225-a372-edbbf5032fe2",
   "metadata": {},
   "outputs": [],
   "source": [
    "import random\n",
    "from matplotlib import pyplot\n",
    "\n",
    "(image, label) = random.choice(training_data)\n",
    "pyplot.imshow(image[0])\n",
    "print(label)"
   ]
  },
  {
   "cell_type": "markdown",
   "id": "45513baa-2891-489c-be29-27b32c976045",
   "metadata": {},
   "source": [
    "# DataLoader"
   ]
  },
  {
   "cell_type": "code",
   "execution_count": null,
   "id": "3f6b67a8-60c1-4504-8701-db8241e27b0b",
   "metadata": {},
   "outputs": [],
   "source": [
    "from torch.utils.data import DataLoader\n",
    "\n",
    "train_dataloader = DataLoader(training_data, batch_size=16, shuffle=True)\n",
    "\n",
    "for (index, (features, labels)) in enumerate(train_dataloader):\n",
    "    if index == 10: break\n",
    "    print(features.shape, features.dtype)\n",
    "    print(labels)"
   ]
  },
  {
   "cell_type": "markdown",
   "id": "5c9ac57c-fefc-4387-b825-a83b203be28c",
   "metadata": {},
   "source": [
    "# Feed-Forward Neural Network (Multi Layer Perceptron)"
   ]
  },
  {
   "cell_type": "code",
   "execution_count": null,
   "id": "104ff9ba-4d9c-432d-a74a-e364d37d3182",
   "metadata": {},
   "outputs": [],
   "source": [
    "from torch import nn\n",
    "\n",
    "class DigitClassifierMLP(nn.Module):\n",
    "    def __init__(self):\n",
    "        super().__init__()\n",
    "        self.num_hidden = 8\n",
    "        # layers with weights\n",
    "        self.layers = nn.Sequential(\n",
    "            nn.Flatten(1),\n",
    "            # 28 * 28 * 8 = 6272\n",
    "            nn.Linear(28 * 28, self.num_hidden),\n",
    "            nn.ReLU(),\n",
    "            nn.Linear(self.num_hidden, 10),\n",
    "            nn.LogSoftmax(dim=1))\n",
    "\n",
    "    # input: [N, 1, 28, 28]\n",
    "    def forward(self, input):\n",
    "        log_prob = self.layers(input)\n",
    "        return log_prob"
   ]
  },
  {
   "cell_type": "markdown",
   "id": "554f3a22-d174-4085-8a49-47b5cdce2007",
   "metadata": {},
   "source": [
    "## Instantiate the model"
   ]
  },
  {
   "cell_type": "code",
   "execution_count": null,
   "id": "7c5ff390-a049-4b5f-9da3-338dfeac3b3e",
   "metadata": {},
   "outputs": [],
   "source": [
    "digit_classifier_mlp = DigitClassifierMLP()"
   ]
  },
  {
   "cell_type": "markdown",
   "id": "18e5e454-9078-4f10-bb9a-8b52b9404853",
   "metadata": {},
   "source": [
    "## Try it out"
   ]
  },
  {
   "cell_type": "code",
   "execution_count": null,
   "id": "c3411fd1-2a8a-4682-929d-1e1a03eabe6f",
   "metadata": {},
   "outputs": [],
   "source": [
    "import torch\n",
    "import random\n",
    "from matplotlib import pyplot\n",
    "\n",
    "def visualize(model, data):\n",
    "    (image, correct_label) = random.choice(test_data)\n",
    "    # image: 1 x 28 x 28\n",
    "    print(f'Correct answer: {correct_label}')\n",
    "    log_prob = model(image.reshape(1, 1, 28, 28))\n",
    "    # log_prob: 1 x 10\n",
    "    prob = log_prob[0].exp().tolist()\n",
    "    fig, axes = pyplot.subplots(1, 2, figsize=(12, 5))\n",
    "    axes[0].imshow(image[0])\n",
    "    axes[1].bar(list(range(10)), prob)\n",
    "    pyplot.show()"
   ]
  },
  {
   "cell_type": "code",
   "execution_count": null,
   "id": "f1a5f1bf-32ec-4a28-8474-32aa3e79bb1d",
   "metadata": {},
   "outputs": [],
   "source": [
    "visualize(digit_classifier_mlp, test_data)"
   ]
  },
  {
   "cell_type": "markdown",
   "id": "ca76767d-f78e-46d1-bd60-70f4481009b9",
   "metadata": {},
   "source": [
    "## Evaluate the model on test data"
   ]
  },
  {
   "cell_type": "code",
   "execution_count": null,
   "id": "efe2c5a3-7ab5-418a-bc1a-8e62162e4f1e",
   "metadata": {},
   "outputs": [],
   "source": [
    "from torch.utils.data import DataLoader\n",
    "\n",
    "def evaluate(model, data):\n",
    "    cost_fn = nn.NLLLoss()\n",
    "    data_loader = DataLoader(data, batch_size = 32)\n",
    "    cost = 0.0\n",
    "    correct = 0\n",
    "    with torch.no_grad():\n",
    "        for (images, correct_labels) in data_loader:\n",
    "            log_prob = model(images)\n",
    "            cost += len(images) * cost_fn(log_prob, correct_labels).item()\n",
    "            correct += (log_prob.argmax(dim=1) == correct_labels).sum().item()\n",
    "    cost /= len(data)\n",
    "    correct /= len(data)\n",
    "    print(f'Evaluation cost: {cost:.8f} correct: {100 * correct:.2f}%')\n",
    "    return cost"
   ]
  },
  {
   "cell_type": "code",
   "execution_count": null,
   "id": "d0429fd3-44aa-4de3-9dbd-9cf03d407149",
   "metadata": {},
   "outputs": [],
   "source": [
    "evaluate(digit_classifier_mlp, test_data)"
   ]
  },
  {
   "cell_type": "markdown",
   "id": "48ce3eeb-81be-40d7-9210-eabb4ae59a7d",
   "metadata": {},
   "source": [
    "### Base cost for random guessing"
   ]
  },
  {
   "cell_type": "code",
   "execution_count": null,
   "id": "ae42cd2e-7d91-46f7-8e6f-89dc3f716a1a",
   "metadata": {},
   "outputs": [],
   "source": [
    "import math\n",
    "math.log(10)"
   ]
  },
  {
   "cell_type": "markdown",
   "id": "95975b0f-b556-4fab-8850-799dc5f559b5",
   "metadata": {},
   "source": [
    "## Train MLP"
   ]
  },
  {
   "cell_type": "code",
   "execution_count": null,
   "id": "c4f0521f-afe4-4fcc-acbf-e1728233fb5a",
   "metadata": {},
   "outputs": [],
   "source": [
    "from torch import optim\n",
    "\n",
    "def training_epoch(model, data):\n",
    "    cost_fn = nn.NLLLoss()\n",
    "    data_loader = DataLoader(data, batch_size=32, shuffle=True)\n",
    "    optimizer = optim.AdamW(model.parameters(), lr = 0.001)\n",
    "    total_cost = 0.0\n",
    "    for (images, labels) in data_loader:\n",
    "        log_prob = model(images)\n",
    "        cost = cost_fn(log_prob, labels)\n",
    "        total_cost += len(images) * cost.item()\n",
    "        # backpropagation\n",
    "        optimizer.zero_grad()\n",
    "        cost.backward()\n",
    "        optimizer.step()\n",
    "    total_cost /= len(data)\n",
    "    print(f'Training cost: {total_cost:.8f}')\n",
    "    return total_cost"
   ]
  },
  {
   "cell_type": "code",
   "execution_count": null,
   "id": "6f366ab8-39d4-442c-8efe-a2df24fb4a26",
   "metadata": {},
   "outputs": [],
   "source": [
    "def train(model):\n",
    "    training_costs = []\n",
    "    validation_costs = []\n",
    "    for epoch in range(10):\n",
    "        training_cost = training_epoch(model, training_data)\n",
    "        validation_cost = evaluate(model, test_data)\n",
    "        training_costs.append(training_cost)\n",
    "        validation_costs.append(validation_cost)\n",
    "    return training_costs, validation_costs"
   ]
  },
  {
   "cell_type": "code",
   "execution_count": null,
   "id": "a613f056-001c-43fd-87a8-fa4572e49ef3",
   "metadata": {},
   "outputs": [],
   "source": [
    "digit_classifier_mlp = DigitClassifierMLP()\n",
    "training_costs, validation_costs = train(digit_classifier_mlp)"
   ]
  },
  {
   "cell_type": "markdown",
   "id": "95c86382-eedd-4597-9dd0-3842b5500834",
   "metadata": {},
   "source": [
    "## Visualize training progress"
   ]
  },
  {
   "cell_type": "code",
   "execution_count": null,
   "id": "1a053321-a870-4867-ad3d-3c9e1cff82e2",
   "metadata": {},
   "outputs": [],
   "source": [
    "def visualize_cost(training_costs, validation_costs):\n",
    "    pyplot.plot(range(len(training_costs)), training_costs, label = 'training')\n",
    "    pyplot.plot(range(len(validation_costs)), validation_costs, label = 'validation')\n",
    "    pyplot.legend()\n",
    "    pyplot.show()"
   ]
  },
  {
   "cell_type": "code",
   "execution_count": null,
   "id": "1ca74eeb-82aa-4bbe-8517-ba9588ac3b49",
   "metadata": {},
   "outputs": [],
   "source": [
    "visualize_cost(training_costs, validation_costs)"
   ]
  },
  {
   "cell_type": "markdown",
   "id": "15af16bd-d662-4626-a5a1-c240c94efdf8",
   "metadata": {},
   "source": [
    "## Try it out again"
   ]
  },
  {
   "cell_type": "code",
   "execution_count": null,
   "id": "bfc7d2b2-0475-4727-bd8d-36dd8e2193e9",
   "metadata": {},
   "outputs": [],
   "source": [
    "visualize(digit_classifier_mlp, test_data)"
   ]
  },
  {
   "cell_type": "markdown",
   "id": "e873c3f1-7507-4abf-8eb9-6f784c4eacde",
   "metadata": {},
   "source": [
    "# Convolutional Neural Network"
   ]
  },
  {
   "cell_type": "code",
   "execution_count": null,
   "id": "7389451a-9d2b-44f8-96f4-46bcd9cf88c9",
   "metadata": {},
   "outputs": [],
   "source": [
    "class DigitClassifierCNN(nn.Module):\n",
    "    def __init__(self):\n",
    "        super().__init__()\n",
    "        self.channels_1 = 8\n",
    "        self.channels_2 = 8\n",
    "        self.channels_3 = 8\n",
    "        self.num_hidden = 16\n",
    "        self.layers = nn.Sequential(\n",
    "            # 5^2 * 1 * 8 = 200 params\n",
    "            nn.Conv2d(1, self.channels_1, 5, padding='same'),\n",
    "            # N x 14 x 14 x 8\n",
    "            nn.MaxPool2d(2),\n",
    "            nn.ReLU(),\n",
    "            # 5^2 * 8 * 8 = 1600 params\n",
    "            nn.Conv2d(self.channels_1, self.channels_2, 5, padding='same'),\n",
    "            # N x 7 x 7 x 8\n",
    "            nn.MaxPool2d(2),\n",
    "            nn.ReLU(),\n",
    "            # 5^2 * 8 * 8 = 1600 params\n",
    "            nn.Conv2d(self.channels_2, self.channels_3, 5, padding='same'),\n",
    "            # N x 4 x 4 x 8\n",
    "            nn.MaxPool2d(2, ceil_mode=True),\n",
    "            nn.ReLU(),\n",
    "            # N x 128\n",
    "            nn.Flatten(1),\n",
    "            # 128 * 16 = 2048 params\n",
    "            nn.Linear(4 * 4 * self.channels_3, self.num_hidden),\n",
    "            nn.ReLU(),\n",
    "            # 16 * 10 = 160 params\n",
    "            nn.Linear(self.num_hidden, 10),\n",
    "            nn.LogSoftmax(dim=1))\n",
    "\n",
    "    # input: [N, 1, 28, 28]\n",
    "    def forward(self, input):\n",
    "        log_prob = self.layers(input)\n",
    "        return log_prob"
   ]
  },
  {
   "cell_type": "markdown",
   "id": "b5dbab56-f1b1-4c61-ba4c-46aac6af13d8",
   "metadata": {},
   "source": [
    "## Try out untrained CNN"
   ]
  },
  {
   "cell_type": "code",
   "execution_count": null,
   "id": "8afc3af7-c64d-478d-91ac-ea61324e0b0c",
   "metadata": {},
   "outputs": [],
   "source": [
    "digit_classifier_cnn = DigitClassifierCNN()"
   ]
  },
  {
   "cell_type": "code",
   "execution_count": null,
   "id": "31dcd7d6-d3a9-47cd-85af-aeccab1a1571",
   "metadata": {},
   "outputs": [],
   "source": [
    "visualize(digit_classifier_cnn, test_data)"
   ]
  },
  {
   "cell_type": "code",
   "execution_count": null,
   "id": "f5dce0c6-364a-49fe-930b-194a9050f65d",
   "metadata": {},
   "outputs": [],
   "source": [
    "evaluate(digit_classifier_cnn, test_data)"
   ]
  },
  {
   "cell_type": "markdown",
   "id": "9c63a746-fe42-4fb6-a57f-a7499c2d945f",
   "metadata": {},
   "source": [
    "## Train CNN"
   ]
  },
  {
   "cell_type": "code",
   "execution_count": null,
   "id": "6e8aba5d-d5ec-4836-b07f-ee73bb99afc0",
   "metadata": {},
   "outputs": [],
   "source": [
    "digit_classifier_cnn = DigitClassifierCNN()\n",
    "training_costs, validation_costs = train(digit_classifier_cnn)"
   ]
  },
  {
   "cell_type": "code",
   "execution_count": null,
   "id": "30192a73-976a-4c23-9166-840a6034ad22",
   "metadata": {
    "scrolled": true
   },
   "outputs": [],
   "source": [
    "visualize_cost(training_costs, validation_costs)"
   ]
  },
  {
   "cell_type": "markdown",
   "id": "95df4ba3-11a1-4567-ade4-45d00e324acd",
   "metadata": {},
   "source": [
    "## Try out trained CNN"
   ]
  },
  {
   "cell_type": "code",
   "execution_count": null,
   "id": "ede835e4-decd-42f2-a8f9-a10b7fa1c861",
   "metadata": {},
   "outputs": [],
   "source": [
    "visualize(digit_classifier_cnn, test_data)"
   ]
  }
 ],
 "metadata": {
  "kernelspec": {
   "display_name": "Python 3 (ipykernel)",
   "language": "python",
   "name": "python3"
  },
  "language_info": {
   "codemirror_mode": {
    "name": "ipython",
    "version": 3
   },
   "file_extension": ".py",
   "mimetype": "text/x-python",
   "name": "python",
   "nbconvert_exporter": "python",
   "pygments_lexer": "ipython3",
   "version": "3.12.3"
  }
 },
 "nbformat": 4,
 "nbformat_minor": 5
}
